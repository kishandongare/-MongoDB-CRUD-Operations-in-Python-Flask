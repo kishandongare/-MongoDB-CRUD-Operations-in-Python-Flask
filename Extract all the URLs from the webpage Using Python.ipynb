{
 "cells": [
  {
   "cell_type": "markdown",
   "id": "905f9ab9",
   "metadata": {},
   "source": [
    "# Extract all the URLs from the webpage Using Python"
   ]
  },
  {
   "cell_type": "markdown",
   "id": "a5fb4a45",
   "metadata": {},
   "source": [
    "Scraping is a very essential skill for everyone to get data from any website."
   ]
  },
  {
   "cell_type": "markdown",
   "id": "ea362b52",
   "metadata": {},
   "source": [
    "# Module Needed:\n",
    "\n"
   ]
  },
  {
   "cell_type": "markdown",
   "id": "155c43cb",
   "metadata": {},
   "source": [
    "bs4: Beautiful Soup(bs4) is a Python library for pulling data out of HTML and XML files.\n",
    "This module does not come built-in with Python. To install this type the below command \n",
    "in the terminal.\n",
    "\n",
    "\n",
    "pip install bs4"
   ]
  },
  {
   "cell_type": "code",
   "execution_count": 1,
   "id": "6ba80f07",
   "metadata": {},
   "outputs": [
    {
     "name": "stdout",
     "output_type": "stream",
     "text": [
      "Collecting bs4\n",
      "  Downloading bs4-0.0.1.tar.gz (1.1 kB)\n",
      "Requirement already satisfied: beautifulsoup4 in ./anaconda3/lib/python3.8/site-packages (from bs4) (4.9.3)\n",
      "Requirement already satisfied: soupsieve>1.2 in ./anaconda3/lib/python3.8/site-packages (from beautifulsoup4->bs4) (2.2.1)\n",
      "Building wheels for collected packages: bs4\n",
      "  Building wheel for bs4 (setup.py) ... \u001b[?25ldone\n",
      "\u001b[?25h  Created wheel for bs4: filename=bs4-0.0.1-py3-none-any.whl size=1273 sha256=e97cfa10c1a110ec57a3d00c45b56fff98d1ff669d1a9ccfc8113c182d2cbbef\n",
      "  Stored in directory: /home/kishan/.cache/pip/wheels/75/78/21/68b124549c9bdc94f822c02fb9aa3578a669843f9767776bca\n",
      "Successfully built bs4\n",
      "Installing collected packages: bs4\n",
      "Successfully installed bs4-0.0.1\n"
     ]
    }
   ],
   "source": [
    "!pip install bs4"
   ]
  },
  {
   "cell_type": "markdown",
   "id": "3b1cd39e",
   "metadata": {},
   "source": [
    "requests:  Requests allows you to send HTTP/1.1 requests extremely easily. \n",
    "This module also does not comes built-in with Python. To install this type \n",
    "the below command in the terminal.\n",
    "\n",
    "\n",
    "pip install requests"
   ]
  },
  {
   "cell_type": "code",
   "execution_count": 2,
   "id": "3aa9aab8",
   "metadata": {},
   "outputs": [
    {
     "name": "stdout",
     "output_type": "stream",
     "text": [
      "Requirement already satisfied: requests in ./anaconda3/lib/python3.8/site-packages (2.25.1)\n",
      "Requirement already satisfied: idna<3,>=2.5 in ./anaconda3/lib/python3.8/site-packages (from requests) (2.10)\n",
      "Requirement already satisfied: certifi>=2017.4.17 in ./anaconda3/lib/python3.8/site-packages (from requests) (2020.12.5)\n",
      "Requirement already satisfied: urllib3<1.27,>=1.21.1 in ./anaconda3/lib/python3.8/site-packages (from requests) (1.26.4)\n",
      "Requirement already satisfied: chardet<5,>=3.0.2 in ./anaconda3/lib/python3.8/site-packages (from requests) (4.0.0)\n"
     ]
    }
   ],
   "source": [
    "!pip install requests"
   ]
  },
  {
   "cell_type": "code",
   "execution_count": 3,
   "id": "93a4167a",
   "metadata": {},
   "outputs": [
    {
     "name": "stdout",
     "output_type": "stream",
     "text": [
      "#start-of-content\n",
      "https://github.com/\n",
      "/signup?ref_cta=Sign+up&ref_loc=header+logged+out&ref_page=%2F%3Cuser-name%3E&source=header\n",
      "/features\n",
      "/mobile\n",
      "/features/actions\n",
      "/features/codespaces\n",
      "/features/copilot\n",
      "/features/packages\n",
      "/features/security\n",
      "/features/code-review\n",
      "/features/issues\n",
      "/features/discussions\n",
      "/features/integrations\n",
      "/sponsors\n",
      "/customer-stories\n",
      "/team\n",
      "/enterprise\n",
      "/explore\n",
      "/topics\n",
      "/collections\n",
      "/trending\n",
      "https://skills.github.com/\n",
      "/sponsors/explore\n",
      "https://opensource.guide\n",
      "/readme\n",
      "/events\n",
      "https://github.community\n",
      "https://education.github.com\n",
      "https://stars.github.com\n",
      "/marketplace\n",
      "/pricing\n",
      "/pricing#compare-features\n",
      "https://github.com/enterprise/contact\n",
      "https://education.github.com\n",
      "\n",
      "\n",
      "\n",
      "\n",
      "/login?return_to=https%3A%2F%2Fgithub.com%2Fkishandongare\n",
      "/signup?ref_cta=Sign+up&ref_loc=header+logged+out&ref_page=%2F%3Cuser-name%3E&source=header\n",
      "/login?return_to=https%3A%2F%2Fgithub.com%2Fkishandongare\n",
      "/kishandongare\n",
      "/kishandongare?tab=repositories\n",
      "/kishandongare?tab=projects&type=new\n",
      "/kishandongare?tab=packages\n",
      "/kishandongare?tab=stars\n",
      "/kishandongare\n",
      "/kishandongare?tab=repositories\n",
      "/kishandongare?tab=projects&type=new\n",
      "/kishandongare?tab=packages\n",
      "/kishandongare?tab=stars\n",
      "/login?return_to=https%3A%2F%2Fgithub.com%2Fkishandongare\n",
      "https://avatars.githubusercontent.com/u/66677660?v=4\n",
      "/login?return_to=https%3A%2F%2Fgithub.com%2Fkishandongare\n",
      "https://github.com/kishandongare?tab=followers\n",
      "https://github.com/kishandongare?tab=following\n",
      "https://docs.github.com/en/articles/blocking-a-user-from-your-personal-account\n",
      "https://docs.github.com/en/articles/reporting-abuse-or-spam\n",
      "/contact/report-abuse?report=kishandongare+%28user%29\n",
      "/kishandongare\n",
      "/kishandongare?tab=repositories\n",
      "/kishandongare?tab=projects&type=new\n",
      "/kishandongare?tab=packages\n",
      "/kishandongare?tab=stars\n",
      "/kishandongare\n",
      "/kishandongare?tab=repositories\n",
      "/kishandongare?tab=projects&type=new\n",
      "/kishandongare?tab=packages\n",
      "/kishandongare?tab=stars\n",
      "/kishandongare/kishandongare\n",
      "mailto:kishan.tech25@gmail.com\n",
      "https://www.linkedin.com/in/kishandongare/\n",
      "/kishandongare/movie-recommendation-system\n",
      "/kishandongare/Attendance-system-using-face-recognition-python-computer-vision-\n",
      "/kishandongare/Deploy-Machine-Learning-Model-in-Django\n",
      "/kishandongare/flask\n",
      "/kishandongare/Hand-Controlled-Car-Video-Game-using-MediaPipe\n",
      "/kishandongare/Hand-Controlled-Car-Video-Game-using-MediaPipe/stargazers\n",
      "/kishandongare/matplotlib-practice\n",
      "https://docs.github.com/articles/why-are-my-contributions-not-showing-up-on-my-profile\n",
      "https://skyline.github.com/kishandongare\n",
      "/kishandongare?tab=overview&from=2022-07-01&to=2022-07-27\n",
      "/kishandongare?tab=overview&from=2021-12-01&to=2021-12-31\n",
      "/kishandongare?tab=overview&from=2020-12-01&to=2020-12-31\n",
      "/kishandongare/React.js\n",
      "/kishandongare/React.js/commits?author=kishandongare&since=2022-07-01&until=2022-07-28\n",
      "/kishandongare/Express.js\n",
      "/kishandongare/Express.js/commits?author=kishandongare&since=2022-07-01&until=2022-07-28\n",
      "/kishandongare/Node.js\n",
      "/kishandongare/Node.js/commits?author=kishandongare&since=2022-07-01&until=2022-07-28\n",
      "/kishandongare/Extract-all-the-URLs-from-the-webpage-Using-Python\n",
      "/kishandongare/Extract-all-the-URLs-from-the-webpage-Using-Python/commits?author=kishandongare&since=2022-07-01&until=2022-07-28\n",
      "/kishandongare/mongodb\n",
      "/kishandongare/mongodb/commits?author=kishandongare&since=2022-07-01&until=2022-07-28\n",
      "/kishandongare/Express.js\n",
      "/kishandongare/React.js\n",
      "/kishandongare/Extract-all-the-URLs-from-the-webpage-Using-Python\n",
      "https://docs.github.com/categories/setting-up-and-managing-your-github-profile\n",
      "https://github.com\n",
      "https://docs.github.com/en/github/site-policy/github-terms-of-service\n",
      "https://docs.github.com/en/github/site-policy/github-privacy-statement\n",
      "https://github.com/security\n",
      "https://www.githubstatus.com/\n",
      "https://docs.github.com\n",
      "https://support.github.com?tags=dotcom-footer\n",
      "https://github.com/pricing\n",
      "https://docs.github.com\n",
      "https://services.github.com\n",
      "https://github.blog\n",
      "https://github.com/about\n",
      "\n",
      "\n"
     ]
    }
   ],
   "source": [
    "import requests\n",
    "from bs4 import BeautifulSoup\n",
    "\n",
    "\n",
    "url = 'https://github.com/kishandongare'\n",
    "reqs = requests.get(url)\n",
    "soup = BeautifulSoup(reqs.text, 'html.parser')\n",
    "\n",
    "urls = []\n",
    "for link in soup.find_all('a'):\n",
    "    print(link.get('href'))\n"
   ]
  },
  {
   "cell_type": "markdown",
   "id": "489e9dbc",
   "metadata": {},
   "source": [
    "# Approach:"
   ]
  },
  {
   "cell_type": "markdown",
   "id": "06b9c9a2",
   "metadata": {},
   "source": [
    "> Import module\n",
    "\n",
    "> Make requests instance and pass into URL\n",
    "\n",
    "> Pass the requests into a Beautifulsoup() function\n",
    "\n",
    "> Use ‘a’ tag to find them all tag (‘a href ‘)"
   ]
  },
  {
   "cell_type": "code",
   "execution_count": null,
   "id": "acdabf87",
   "metadata": {},
   "outputs": [],
   "source": []
  }
 ],
 "metadata": {
  "kernelspec": {
   "display_name": "Python 3",
   "language": "python",
   "name": "python3"
  },
  "language_info": {
   "codemirror_mode": {
    "name": "ipython",
    "version": 3
   },
   "file_extension": ".py",
   "mimetype": "text/x-python",
   "name": "python",
   "nbconvert_exporter": "python",
   "pygments_lexer": "ipython3",
   "version": "3.8.8"
  }
 },
 "nbformat": 4,
 "nbformat_minor": 5
}
